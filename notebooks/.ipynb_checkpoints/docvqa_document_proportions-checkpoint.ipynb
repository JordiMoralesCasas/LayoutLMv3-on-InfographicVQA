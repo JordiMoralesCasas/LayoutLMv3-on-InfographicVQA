{
 "cells": [
  {
   "cell_type": "markdown",
   "metadata": {},
   "source": [
    "# DocVQA document proportions\n",
    "#### Experiment: Effect of the document/infographic aspect ratio on the model performance"
   ]
  },
  {
   "cell_type": "code",
   "execution_count": 2,
   "metadata": {},
   "outputs": [],
   "source": [
    "import os\n",
    "import sys\n",
    "module_path = os.path.abspath(os.path.join('..'))\n",
    "if module_path not in sys.path:\n",
    "    sys.path.append(module_path)\n",
    "\n",
    "import math\n",
    "import numpy as np\n",
    "from PIL import Image\n",
    "import seaborn as sns\n",
    "from matplotlib import pyplot"
   ]
  },
  {
   "cell_type": "code",
   "execution_count": 3,
   "metadata": {},
   "outputs": [],
   "source": [
    "# Get the width and height of all the documents in DocVQA\n",
    "\n",
    "width_list, height_list, ratio_list = [], [], []\n",
    "for split in [\"train\", \"test\", \"val\"]:\n",
    "    folder = os.listdir(f\"../data/docvqa/{split}/documents\")\n",
    "    for image_file in folder:\n",
    "        image = Image.open(f\"../data/docvqa/{split}/documents/{image_file}\")\n",
    "        width_list.append(image.width)\n",
    "        height_list.append(image.height)\n",
    "        ratio_list.append(image.width/image.height)"
   ]
  },
  {
   "cell_type": "code",
   "execution_count": 4,
   "metadata": {},
   "outputs": [
    {
     "data": {
      "image/png": "[encoded data removed]",
      "text/plain": [
       "<Figure size 1152x648 with 1 Axes>"
      ]
     },
     "metadata": {
      "needs_background": "light"
     },
     "output_type": "display_data"
    }
   ],
   "source": [
    "sns.set(font_scale=1.2)\n",
    "\n",
    "fig, ax = pyplot.subplots(1, 1, figsize=(16, 9))\n",
    "sns.histplot(ratio_list, ax=ax)\n",
    "ax.set(yscale=\"log\", xlabel=\"Widht/Height ratio\");"
   ]
  },
  {
   "cell_type": "code",
   "execution_count": 9,
   "metadata": {
    "scrolled": true
   },
   "outputs": [
    {
     "name": "stdout",
     "output_type": "stream",
     "text": [
      "3634\n"
     ]
    },
    {
     "data": {
      "text/plain": [
       "10035"
      ]
     },
     "execution_count": 9,
     "metadata": {},
     "output_type": "execute_result"
    }
   ],
   "source": [
    "var = np.var(ratio_list)\n",
    "mean = np.mean(ratio_list)\n",
    "median = np.median(ratio_list)\n",
    "std = np.std(ratio_list)\n",
    "n = len(ratio_list)\n",
    "\n",
    "# Not ideal since the ratio distribution clearly is not normally distributed\n",
    "ci1 = (mean - 1.96*std/np.sqrt(n),\n",
    "       mean + 1.96*std/np.sqrt(n))\n",
    "\n",
    "# This interval seems to include most of the standard sized documents (dinA4-ish) \n",
    "ci2 = (median - var, median + var)\n",
    "\n",
    "sum(np.logical_and(ratio_list >= ci1[0], ratio_list <= ci1[1]))\n",
    "sum(np.logical_and(ratio_list >= ci2[0], ratio_list <= ci2[1]))\n",
    "\n",
    "ci2"
   ]
  },
  {
   "cell_type": "code",
   "execution_count": 6,
   "metadata": {},
   "outputs": [],
   "source": [
    "# Resulting InfographicVQA subdataset for document-sized infographics\n",
    "dataset1 = load_from_disk(\n",
    "    \"../cached_datasets/infographicvqa_document_ratio_experiment_msr_ocr_True_extraction_v1_enumeration\")\n",
    "\n",
    "# InfographicVQA dataset\n",
    "dataset2 = load_from_disk(\n",
    "    \"../cached_datasets/infographicvqa_all_lowercase_True_msr_ocr_True_extraction_v1_enumeration\")"
   ]
  },
  {
   "cell_type": "code",
   "execution_count": 7,
   "metadata": {},
   "outputs": [
    {
     "data": {
      "text/plain": [
       "(Dataset({\n",
       "     features: ['questionId', 'question', 'image_local_name', 'image_url', 'ocr_output_file', 'original_answer', 'data_split', 'image', 'ocr_text', 'words', 'layout', 'processed_answers'],\n",
       "     num_rows: 4225\n",
       " }),\n",
       " Dataset({\n",
       "     features: ['questionId', 'question', 'image_local_name', 'image_url', 'ocr_output_file', 'original_answer', 'data_split', 'image', 'ocr_text', 'words', 'layout', 'processed_answers'],\n",
       "     num_rows: 366\n",
       " }),\n",
       " Dataset({\n",
       "     features: ['questionId', 'question', 'image_local_name', 'image_url', 'ocr_output_file', 'data_split', 'original_answer', 'image', 'ocr_text', 'words', 'layout', 'processed_answers'],\n",
       "     num_rows: 512\n",
       " }))"
      ]
     },
     "execution_count": 7,
     "metadata": {},
     "output_type": "execute_result"
    }
   ],
   "source": [
    "dataset1[\"train\"], dataset1[\"val\"], dataset1[\"test\"]"
   ]
  },
  {
   "cell_type": "code",
   "execution_count": 8,
   "metadata": {},
   "outputs": [
    {
     "data": {
      "text/plain": [
       "(Dataset({\n",
       "     features: ['questionId', 'question', 'image_local_name', 'image_url', 'ocr_output_file', 'original_answer', 'data_split', 'image', 'ocr_text', 'words', 'layout', 'processed_answers'],\n",
       "     num_rows: 23946\n",
       " }),\n",
       " Dataset({\n",
       "     features: ['questionId', 'question', 'image_local_name', 'image_url', 'ocr_output_file', 'original_answer', 'data_split', 'image', 'ocr_text', 'words', 'layout', 'processed_answers'],\n",
       "     num_rows: 2801\n",
       " }),\n",
       " Dataset({\n",
       "     features: ['questionId', 'question', 'image_local_name', 'image_url', 'ocr_output_file', 'data_split', 'original_answer', 'image', 'ocr_text', 'words', 'layout', 'processed_answers'],\n",
       "     num_rows: 3288\n",
       " }))"
      ]
     },
     "execution_count": 8,
     "metadata": {},
     "output_type": "execute_result"
    }
   ],
   "source": [
    "dataset2[\"train\"], dataset2[\"val\"], dataset2[\"test\"]"
   ]
  }
 ],
 "metadata": {
  "kernelspec": {
   "display_name": "tfg",
   "language": "python",
   "name": "tfg"
  },
  "language_info": {
   "codemirror_mode": {
    "name": "ipython",
    "version": 3
   },
   "file_extension": ".py",
   "mimetype": "text/x-python",
   "name": "python",
   "nbconvert_exporter": "python",
   "pygments_lexer": "ipython3",
   "version": "3.7.13"
  }
 },
 "nbformat": 4,
 "nbformat_minor": 4
}
