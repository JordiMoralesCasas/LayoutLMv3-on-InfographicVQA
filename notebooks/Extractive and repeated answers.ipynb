{
 "cells": [
  {
   "cell_type": "markdown",
   "metadata": {},
   "source": [
    "# Extractive and repeated answers\n",
    "#### Experiments:\n",
    "    - Limitations of LayoutLMv3 for extractive QA tasks on infographics\n",
    "    - Current answer (and postion tokens) extractor not optimal for repeated answers in the text"
   ]
  },
  {
   "cell_type": "code",
   "execution_count": 1,
   "metadata": {},
   "outputs": [
    {
     "name": "stderr",
     "output_type": "stream",
     "text": [
      "/home/jmorales/anaconda3/envs/tfg/lib/python3.7/site-packages/tqdm/auto.py:22: TqdmWarning: IProgress not found. Please update jupyter and ipywidgets. See https://ipywidgets.readthedocs.io/en/stable/user_install.html\n",
      "  from .autonotebook import tqdm as notebook_tqdm\n"
     ]
    }
   ],
   "source": [
    "import os\n",
    "import sys\n",
    "module_path = os.path.abspath(os.path.join('..'))\n",
    "if module_path not in sys.path:\n",
    "    sys.path.append(module_path)\n",
    "\n",
    "from modelling.utils import read_data\n",
    "from datasets import load_from_disk\n",
    "from preprocess.extract_positions import extract_start_end_index_v1, extract_start_end_index_v2\n",
    "from preprocess.utils import clean_text, get_answer_indices, better_subfinder, get_answer_indices_by_enumeration\n",
    "import editdistance\n",
    "import math\n",
    "import numpy as np\n",
    "from PIL import Image\n",
    "from tqdm import tqdm\n",
    "import seaborn as sns\n",
    "from matplotlib import pyplot\n",
    "import pickle"
   ]
  },
  {
   "cell_type": "code",
   "execution_count": 2,
   "metadata": {},
   "outputs": [],
   "source": [
    "dataset = load_from_disk(\n",
    "    \"../cached_datasets/docvqa_cached_extractive_all_lowercase_True_msr_ocr_True_extraction_v1_enumeration\")\n",
    "dataset = load_from_disk(\n",
    "    \"../cached_datasets/infographicvqa_all_lowercase_True_msr_ocr_True_extraction_v1_enumeration\")"
   ]
  },
  {
   "cell_type": "code",
   "execution_count": 3,
   "metadata": {},
   "outputs": [],
   "source": [
    "def repeated_answers_in_text(current_answers, words):\n",
    "    \"\"\"\n",
    "    Adapted from https://github.com/anisha2102/docvqa/blob/master/create_dataset.py\n",
    "    :param current_answers: List of answers\n",
    "    :param words: List of all the words in the document\n",
    "    :return:\n",
    "    \"\"\"\n",
    "    ## extracting the start, end index\n",
    "    processed_answers = []\n",
    "    ## remove duplicates because of the case of multiple answers\n",
    "    current_answers = list(set(current_answers))\n",
    "    all_not_found = True\n",
    "    answer_appear_twice = False\n",
    "    for ans_index, current_ans in enumerate(current_answers):\n",
    "        start_index, end_index, extracted_answer = get_answer_indices(words, current_ans)\n",
    "        ans = current_ans.lower()\n",
    "        extracted_answer = clean_text(extracted_answer)\n",
    "        ans = clean_text(ans)\n",
    "        dist = editdistance.eval(extracted_answer.replace(' ', ''),\n",
    "                                 ans.replace(' ', '')) if extracted_answer != None else 1000\n",
    "        if start_index == -1:\n",
    "            end_index = -1\n",
    "            extracted_answer = \"\"\n",
    "        if dist > 5:\n",
    "            start_index = -1\n",
    "            end_index = -1\n",
    "        if start_index == -1 or len(extracted_answer) > 150 or extracted_answer == \"\":\n",
    "            start_index = -1\n",
    "            end_index = -1\n",
    "            extracted_answer = \"\"\n",
    "        if start_index != -1:\n",
    "            all_not_found = False\n",
    "        processed_answers.append({\n",
    "            \"start_word_position\": start_index,\n",
    "            \"end_word_position\": end_index,\n",
    "            \"gold_answer\": current_ans,\n",
    "            \"extracted_answer\": extracted_answer})\n",
    "        # Check if the answer appear twice in the text. Remove the found answer from the text and\n",
    "        # try to extract the span again\n",
    "        if extracted_answer != \"\":\n",
    "            reduced_words = words[:start_index] + words[end_index+1:]\n",
    "            start_index, end_index, extracted_answer = get_answer_indices(reduced_words, current_ans)\n",
    "            extracted_answer = clean_text(extracted_answer)\n",
    "            dist = editdistance.eval(extracted_answer.replace(' ', ''),\n",
    "                                     ans.replace(' ', '')) if extracted_answer != None else 1000\n",
    "            if start_index == -1:\n",
    "                end_index = -1\n",
    "                extracted_answer = \"\"\n",
    "            if dist > 5:\n",
    "                start_index = -1\n",
    "                end_index = -1\n",
    "            if start_index == -1 or len(extracted_answer) > 150 or extracted_answer == \"\":\n",
    "                start_index = -1\n",
    "                end_index = -1\n",
    "                extracted_answer = \"\"\n",
    "            if extracted_answer != \"\":\n",
    "                answer_appear_twice = True\n",
    "            #print(extracted_answer)\n",
    "            \n",
    "    return processed_answers, all_not_found, answer_appear_twice"
   ]
  },
  {
   "cell_type": "code",
   "execution_count": 4,
   "metadata": {},
   "outputs": [
    {
     "name": "stdout",
     "output_type": "stream",
     "text": [
      "Business in * AUSTRALIA 111 96% 4% small businesses LARGE BUSINESSES 7.5 million Aussies rely on small businesses as a living 4 MAIN BUSINESS STRUCTURES commonly used in Australia al sole Trader Partnership The simplest business structure in This business structure involves an Australia, the sole trader or commonly agreement between partners who run a called a sole proprietor, is solely liable business together, sharing management for debts and responsible for every of the business and liability. aspect of his business. Trust company A trust involves a trustee and his A company, a separate legal entity with beneficiaries; the trustee holds generally higher set-up and property or assets for his beneficiaries. administrative costs, is owned b shareholders. Family Trust \"The most common business structure in Australia is the sole trader. Most start-ups choose the company as their business structure.\" unit Trust Hybrid Trust The business structure you choose will affect your: Legal obligations, Tax, operations CONCEPT & DESIGN: INNOVATUS GROUP PHONE: 1300 138 119 innovatus www.innovatus.com.au group\n",
      "what kind of businesses least dominate in the australian economy?\n",
      "['large businesses']\n"
     ]
    },
    {
     "data": {
      "text/plain": [
       "([{'start_word_position': 9,\n",
       "   'end_word_position': 10,\n",
       "   'gold_answer': 'large businesses',\n",
       "   'extracted_answer': 'large businesses'}],\n",
       " False,\n",
       " False)"
      ]
     },
     "execution_count": 4,
     "metadata": {},
     "output_type": "execute_result"
    }
   ],
   "source": [
    "n = 532\n",
    "split = \"train\"\n",
    "\n",
    "print(dataset[split][n][\"ocr_text\"])\n",
    "print(dataset[split][n][\"question\"])\n",
    "print(dataset[split][n][\"original_answer\"])\n",
    "\n",
    "before_processed_text = [w.lower() for w in dataset[split][n][\"words\"]]\n",
    "before_processed_new_answers = [a.lower() for a in dataset[split][n][\"original_answer\"]]\n",
    "\n",
    "repeated_answers_in_text(before_processed_new_answers, before_processed_text)"
   ]
  },
  {
   "cell_type": "markdown",
   "metadata": {},
   "source": [
    "### DocVQA dataset"
   ]
  },
  {
   "cell_type": "code",
   "execution_count": 5,
   "metadata": {},
   "outputs": [],
   "source": [
    "dataset = load_from_disk(\n",
    "    \"../cached_datasets/docvqa_cached_extractive_all_lowercase_True_msr_ocr_True_extraction_v1_enumeration\")"
   ]
  },
  {
   "cell_type": "code",
   "execution_count": 6,
   "metadata": {},
   "outputs": [
    {
     "name": "stderr",
     "output_type": "stream",
     "text": [
      "reading train: 100%|█████████████████████| 39463/39463 [02:31<00:00, 261.06it/s]\n",
      "reading val: 100%|█████████████████████████| 5349/5349 [00:21<00:00, 245.17it/s]\n"
     ]
    }
   ],
   "source": [
    "repeated_doc = {\"train\": 0, \"val\": 0}\n",
    "not_found_doc = {\"train\": 0, \"val\": 0} \n",
    "\n",
    "for split in [\"train\", \"val\"]:\n",
    "    for i in tqdm(range(len(dataset[split])), desc=f\"reading {split}\", total=len(dataset[split])):\n",
    "        before_processed_text = [w.lower() for w in dataset[split][i][\"words\"]]\n",
    "        before_processed_new_answers = [a.lower() for a in dataset[split][i][\"original_answer\"]]\n",
    "        ans, not_found, twice = repeated_answers_in_text(before_processed_new_answers, before_processed_text)\n",
    "        if twice:\n",
    "            repeated_doc[split] += 1\n",
    "        if not_found:\n",
    "            not_found_doc[split] += 1"
   ]
  },
  {
   "cell_type": "code",
   "execution_count": 7,
   "metadata": {},
   "outputs": [],
   "source": [
    "# Repeated percentage\n",
    "rep_per = [repeated_doc[split]/len(dataset[split]) for split in [\"train\", \"val\"]]\n",
    "# Percentage of found answers that are also repeated\n",
    "rep_per_extractive = [repeated_doc[split]/(len(dataset[split])- not_found_doc[split]) for split in [\"train\", \"val\"]]\n",
    "# Not found percentage\n",
    "not_found_per = [not_found_doc[split]/len(dataset[split]) for split in [\"train\", \"val\"]]"
   ]
  },
  {
   "cell_type": "code",
   "execution_count": 8,
   "metadata": {},
   "outputs": [
    {
     "name": "stdout",
     "output_type": "stream",
     "text": [
      "Repeated percentage:\n",
      " -Train: 0.210576996173631\n",
      " -Test: 0.2329407365862778\n",
      "Repeated percentage of extractive questions:\n",
      " -Train: 0.21933065878378377\n",
      " -Test: 0.24479371316306484\n",
      "Not found percentage:\n",
      " -Train: 0.039910802523883133\n",
      " -Test: 0.04842026547018134\n"
     ]
    }
   ],
   "source": [
    "print(f\"Repeated percentage:\\n -Train: {rep_per[0]}\\n -Test: {rep_per[1]}\")\n",
    "print(f\"Repeated percentage of extractive questions:\\n -Train: {rep_per_extractive[0]}\\n -Test: {rep_per_extractive[1]}\") \n",
    "print(f\"Not found percentage:\\n -Train: {not_found_per[0]}\\n -Test: {not_found_per[1]}\")"
   ]
  },
  {
   "cell_type": "code",
   "execution_count": 9,
   "metadata": {},
   "outputs": [
    {
     "data": {
      "image/png": "[encoded data removed]",
      "text/plain": [
       "<Figure size 1152x648 with 1 Axes>"
      ]
     },
     "metadata": {
      "needs_background": "light"
     },
     "output_type": "display_data"
    }
   ],
   "source": [
    "sns.set(font_scale=1.2)\n",
    "\n",
    "fig, ax = pyplot.subplots(1, 1, figsize=(16, 9))\n",
    "sns.barplot(\n",
    "    x=list(repeated_doc.keys()), \n",
    "    y=rep_per,\n",
    "    ax=ax)\n",
    "ax.set(ylim=(0, 1), ylabel=\"\");"
   ]
  },
  {
   "cell_type": "markdown",
   "metadata": {},
   "source": [
    "### InfographicVQA dataset"
   ]
  },
  {
   "cell_type": "code",
   "execution_count": 10,
   "metadata": {},
   "outputs": [],
   "source": [
    "dataset = load_from_disk(\n",
    "    \"../cached_datasets/infographicvqa_all_lowercase_True_msr_ocr_True_extraction_v1_enumeration\")"
   ]
  },
  {
   "cell_type": "code",
   "execution_count": 11,
   "metadata": {
    "scrolled": true
   },
   "outputs": [
    {
     "name": "stderr",
     "output_type": "stream",
     "text": [
      "reading train: 100%|█████████████████████| 23946/23946 [02:39<00:00, 149.87it/s]\n",
      "reading val: 100%|█████████████████████████| 2801/2801 [00:26<00:00, 106.17it/s]\n"
     ]
    }
   ],
   "source": [
    "repeated_info = {\"train\": 0, \"val\": 0}\n",
    "not_found_info = {\"train\": 0, \"val\": 0}\n",
    "\n",
    "all_Ids = []\n",
    "non_extractive_Ids = []\n",
    "extractive_Ids = []\n",
    "repeated_Ids = []\n",
    "\n",
    "for split in [\"train\", \"val\"]:\n",
    "    for i in tqdm(range(len(dataset[split])), desc=f\"reading {split}\", total=len(dataset[split])):\n",
    "        all_Ids.append(dataset[split][i][\"questionId\"])\n",
    "        before_processed_text = [w.lower() for w in dataset[split][i][\"words\"]]\n",
    "        before_processed_new_answers = [a.lower() for a in dataset[split][i][\"original_answer\"]]\n",
    "        ans, not_found, twice = repeated_answers_in_text(before_processed_new_answers, before_processed_text)\n",
    "        if twice:\n",
    "            repeated_Ids.append(dataset[split][i][\"questionId\"])\n",
    "            repeated_info[split] += 1\n",
    "        if not_found:\n",
    "            non_extractive_Ids.append(dataset[split][i][\"questionId\"])\n",
    "            not_found_info[split] += 1\n",
    "        else:\n",
    "            extractive_Ids.append(dataset[split][i][\"questionId\"])"
   ]
  },
  {
   "cell_type": "code",
   "execution_count": 13,
   "metadata": {},
   "outputs": [],
   "source": [
    "# Pickle the lists with extractive and non extractive IDs\n",
    "file = open('pickled_objects/extractive.list', \"wb\")\n",
    "pickle.dump(extractive_Ids, file)\n",
    "file.close()\n",
    "\n",
    "file = open('pickled_objects/non_extractive.list', \"wb\")\n",
    "pickle.dump(non_extractive_Ids, file)\n",
    "file.close()"
   ]
  },
  {
   "cell_type": "code",
   "execution_count": 14,
   "metadata": {},
   "outputs": [],
   "source": [
    "# Repeated percentage\n",
    "rep_per = [repeated_info[split]/len(dataset[split]) for split in [\"train\", \"val\"]]\n",
    "# Percentage of found answers that are also repeated \n",
    "rep_per_extractive = [repeated_info[split]/(len(dataset[split])- not_found_info[split]) for split in [\"train\", \"val\"]]\n",
    "# Not found percentage\n",
    "not_found_per = [not_found_info[split]/len(dataset[split]) for split in [\"train\", \"val\"]]"
   ]
  },
  {
   "cell_type": "code",
   "execution_count": 15,
   "metadata": {},
   "outputs": [
    {
     "name": "stdout",
     "output_type": "stream",
     "text": [
      "Repeated percentage:\n",
      " -Train: 0.1979871377265514\n",
      " -Test: 0.25312388432702604\n",
      "Repeated percentage of extractive questions:\n",
      " -Train: 0.2913056835637481\n",
      " -Test: 0.34995064165844025\n",
      "Not found percentage:\n",
      " -Train: 0.3203457780005011\n",
      " -Test: 0.2766868975365941\n"
     ]
    }
   ],
   "source": [
    "print(f\"Repeated percentage:\\n -Train: {rep_per[0]}\\n -Test: {rep_per[1]}\")\n",
    "print(f\"Repeated percentage of extractive questions:\\n -Train: {rep_per_extractive[0]}\\n -Test: {rep_per_extractive[1]}\") \n",
    "print(f\"Not found percentage:\\n -Train: {not_found_per[0]}\\n -Test: {not_found_per[1]}\")"
   ]
  },
  {
   "cell_type": "code",
   "execution_count": 16,
   "metadata": {},
   "outputs": [
    {
     "data": {
      "image/png": "[encoded data removed]",
      "text/plain": [
       "<Figure size 1152x648 with 1 Axes>"
      ]
     },
     "metadata": {
      "needs_background": "light"
     },
     "output_type": "display_data"
    }
   ],
   "source": [
    "fig, ax = pyplot.subplots(1, 1, figsize=(16, 9))\n",
    "sns.barplot(\n",
    "    x=list(repeated_info.keys()),\n",
    "    y=rep_per,\n",
    "    ax=ax)\n",
    "ax.set(ylim=(0, 1), ylabel=\"\");"
   ]
  },
  {
   "cell_type": "code",
   "execution_count": null,
   "metadata": {},
   "outputs": [],
   "source": []
  }
 ],
 "metadata": {
  "kernelspec": {
   "display_name": "tfg",
   "language": "python",
   "name": "tfg"
  },
  "language_info": {
   "codemirror_mode": {
    "name": "ipython",
    "version": 3
   },
   "file_extension": ".py",
   "mimetype": "text/x-python",
   "name": "python",
   "nbconvert_exporter": "python",
   "pygments_lexer": "ipython3",
   "version": "3.7.13"
  }
 },
 "nbformat": 4,
 "nbformat_minor": 4
}
